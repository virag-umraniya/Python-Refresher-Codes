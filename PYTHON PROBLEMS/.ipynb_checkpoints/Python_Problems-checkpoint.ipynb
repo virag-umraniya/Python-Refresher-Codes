{
 "cells": [
  {
   "cell_type": "markdown",
   "id": "4ac3b7fb-1c34-405e-9358-591b87857629",
   "metadata": {},
   "source": [
    "## Python Refresher Questions"
   ]
  },
  {
   "cell_type": "markdown",
   "id": "34af8695-9ca1-49e1-9b7e-55a851329843",
   "metadata": {},
   "source": [
    "### 1. Write a Python program to print 'Hello, World!'."
   ]
  },
  {
   "cell_type": "code",
   "execution_count": 2,
   "id": "b4ba9882-29e4-437f-b43f-bd2859bd2424",
   "metadata": {},
   "outputs": [
    {
     "name": "stdout",
     "output_type": "stream",
     "text": [
      "Hello World\n"
     ]
    }
   ],
   "source": [
    "print(\"Hello World\")"
   ]
  },
  {
   "cell_type": "markdown",
   "id": "e88e99b2-5663-4852-9a62-23648cb4ea1a",
   "metadata": {},
   "source": [
    "### 2. Write a Python program to add two numbers. "
   ]
  },
  {
   "cell_type": "code",
   "execution_count": 6,
   "id": "6906e9eb-b8d1-47ea-8f2b-5b24d9c71bd2",
   "metadata": {},
   "outputs": [
    {
     "name": "stdout",
     "output_type": "stream",
     "text": [
      "30\n"
     ]
    }
   ],
   "source": [
    "a = 10\n",
    "b = 20\n",
    "print(a+b)"
   ]
  },
  {
   "cell_type": "markdown",
   "id": "15bf5a19-7ade-4901-b97d-3668997910c2",
   "metadata": {},
   "source": [
    "### 3. Write a Python program to find the square of a number. "
   ]
  },
  {
   "cell_type": "code",
   "execution_count": 7,
   "id": "375e141c-d8c7-471a-8804-b612a3fe3a9c",
   "metadata": {},
   "outputs": [
    {
     "name": "stdin",
     "output_type": "stream",
     "text": [
      "Enter a number:  12\n"
     ]
    },
    {
     "name": "stdout",
     "output_type": "stream",
     "text": [
      "The square is: 144\n"
     ]
    }
   ],
   "source": [
    "a = int(input(\"Enter a number: \"))\n",
    "print(\"The square is:\", a**2)"
   ]
  },
  {
   "cell_type": "markdown",
   "id": "59a4d3b1-7edd-4063-acd4-788a0ffaf551",
   "metadata": {},
   "source": [
    "### 4. Write a Python program to calculate the area of a circle. "
   ]
  },
  {
   "cell_type": "code",
   "execution_count": 9,
   "id": "6d0111a2-2332-4423-8d2f-8043c57f2e94",
   "metadata": {},
   "outputs": [
    {
     "name": "stdin",
     "output_type": "stream",
     "text": [
      "Enter Radius:  12\n"
     ]
    },
    {
     "name": "stdout",
     "output_type": "stream",
     "text": [
      "Area of circle is: 452.16\n"
     ]
    }
   ],
   "source": [
    "radius = int(input(\"Enter Radius: \"))\n",
    "print(\"Area of circle is:\",3.14 * (radius * radius))"
   ]
  },
  {
   "cell_type": "markdown",
   "id": "cb189c21-c172-4078-b389-f91cc0c1512d",
   "metadata": {},
   "source": [
    "### 5. Write a Python program to check if a number is even or odd."
   ]
  },
  {
   "cell_type": "code",
   "execution_count": 10,
   "id": "b42edcc3-4dae-4e5f-9aa3-ad2b72aa108f",
   "metadata": {},
   "outputs": [
    {
     "name": "stdin",
     "output_type": "stream",
     "text": [
      "Enter a number:  12\n",
      "Enter b number:  23\n"
     ]
    },
    {
     "name": "stdout",
     "output_type": "stream",
     "text": [
      "b greater than a\n"
     ]
    }
   ],
   "source": [
    "a = int(input(\"Enter a number: \"))\n",
    "b = int(input(\"Enter b number: \"))\n",
    "if(a>b):\n",
    "    print(\"a greater than b\")\n",
    "else:\n",
    "    print(\"b greater than a\")"
   ]
  },
  {
   "cell_type": "markdown",
   "id": "61d78da8-1363-4910-b401-f5923abd48ec",
   "metadata": {},
   "source": [
    "### 6. Write a Python program to find the largest of three numbers."
   ]
  },
  {
   "cell_type": "code",
   "execution_count": 12,
   "id": "b1b559ca-87fe-4323-b57e-4703834c3773",
   "metadata": {},
   "outputs": [
    {
     "name": "stdout",
     "output_type": "stream",
     "text": [
      "b is greatest\n"
     ]
    }
   ],
   "source": [
    "a = 12\n",
    "b = 34\n",
    "c = 23\n",
    "if(a>b and a>c):\n",
    "    print(\"a is greatest\")\n",
    "elif(b>a and b>c):\n",
    "    print(\"b is greatest\")\n",
    "else:\n",
    "    print(\"c is greatest\")"
   ]
  },
  {
   "cell_type": "markdown",
   "id": "750f64a4-0a43-424f-baa8-222696bc48ff",
   "metadata": {},
   "source": [
    "### 7. Write a Python program to check if a number is prime."
   ]
  },
  {
   "cell_type": "code",
   "execution_count": 13,
   "id": "7f9a6256-709c-41de-a039-42c23fd13f83",
   "metadata": {},
   "outputs": [
    {
     "name": "stdout",
     "output_type": "stream",
     "text": [
      "The number 17 is Prime!\n"
     ]
    }
   ],
   "source": [
    "a = 17\n",
    "is_prime = True\n",
    "if(a<1):\n",
    "    print(f\"The number {a} is not Prime!\")\n",
    "else:\n",
    "    for i in range(2, a):\n",
    "        if(a %i == 0):\n",
    "            is_prime = False\n",
    "            break\n",
    "        \n",
    "    if(is_prime):\n",
    "        print(f\"The number {a} is Prime!\")\n",
    "    else:\n",
    "        print(f\"The number {a} is not Prime!\")"
   ]
  },
  {
   "cell_type": "markdown",
   "id": "b560eb05-1427-4b6e-8b81-6c6135b2a9a9",
   "metadata": {},
   "source": [
    "### 8. Write a Python program to print the multiplication table of a number. "
   ]
  },
  {
   "cell_type": "code",
   "execution_count": 14,
   "id": "7ee95ac3-aaca-4dda-ae81-b1dfab7a6971",
   "metadata": {},
   "outputs": [
    {
     "name": "stdin",
     "output_type": "stream",
     "text": [
      "Enter any number to get its multiplication table:  12\n"
     ]
    },
    {
     "name": "stdout",
     "output_type": "stream",
     "text": [
      "12 x 1 = 12\n",
      "12 x 2 = 24\n",
      "12 x 3 = 36\n",
      "12 x 4 = 48\n",
      "12 x 5 = 60\n",
      "12 x 6 = 72\n",
      "12 x 7 = 84\n",
      "12 x 8 = 96\n",
      "12 x 9 = 108\n",
      "12 x 10 = 120\n"
     ]
    }
   ],
   "source": [
    "a = int(input(\"Enter any number to get its multiplication table: \"))\n",
    "for i in range(1,11):\n",
    "    print(f\"{a} x {i} =\", a * i)"
   ]
  },
  {
   "cell_type": "markdown",
   "id": "59015580-244a-4f58-957e-7c9c31740c85",
   "metadata": {},
   "source": [
    "### 9. Write a Python program to find the factorial of a number."
   ]
  },
  {
   "cell_type": "code",
   "execution_count": 16,
   "id": "0da7bf25-5eb7-49af-b0db-256d63e13052",
   "metadata": {},
   "outputs": [
    {
     "name": "stdout",
     "output_type": "stream",
     "text": [
      "Factorial is: 120\n"
     ]
    }
   ],
   "source": [
    "a = 5\n",
    "factorial = 1\n",
    "if(a<0):\n",
    "    print(\"factorial does not exist for negative numbers!\")\n",
    "elif(a == 0):\n",
    "    print(\"Factorial of 0 is 1\")\n",
    "else:\n",
    "    for i in range(1,a+1):\n",
    "        factorial *= i\n",
    "    print(\"Factorial is:\", factorial)"
   ]
  },
  {
   "cell_type": "markdown",
   "id": "d05af710-3a39-4bfc-9e3b-a109f08f74d0",
   "metadata": {},
   "source": [
    "### 10. Write a Python program to reverse a string. "
   ]
  },
  {
   "cell_type": "code",
   "execution_count": 17,
   "id": "98885d3e-69be-4187-8640-65ecd1412838",
   "metadata": {},
   "outputs": [
    {
     "name": "stdout",
     "output_type": "stream",
     "text": [
      "dlroW olleH\n"
     ]
    }
   ],
   "source": [
    "str = \"Hello World\"\n",
    "print(str[::-1])"
   ]
  },
  {
   "cell_type": "markdown",
   "id": "cedd06cc-e7ea-4d65-843b-0d30d3937715",
   "metadata": {},
   "source": [
    "### 11. Write a Python program to check if a string is a palindrome."
   ]
  },
  {
   "cell_type": "code",
   "execution_count": 18,
   "id": "579fc6dc-1804-403a-a8bb-5c72c98a7a74",
   "metadata": {},
   "outputs": [
    {
     "name": "stdin",
     "output_type": "stream",
     "text": [
      "Enter any number:  121\n"
     ]
    },
    {
     "name": "stdout",
     "output_type": "stream",
     "text": [
      "121 is Palindrome number!\n"
     ]
    }
   ],
   "source": [
    "num = input(\"Enter any number: \")\n",
    "reversed = num[::-1]\n",
    "if(num == reversed):\n",
    "    print(f\"{num} is Palindrome number!\")\n",
    "else:\n",
    "    print(f\"{num} is not Palindrome number!\")"
   ]
  },
  {
   "cell_type": "code",
   "execution_count": null,
   "id": "0fea7ca5-debc-4af4-aef6-fcb72ac64865",
   "metadata": {},
   "outputs": [],
   "source": []
  }
 ],
 "metadata": {
  "kernelspec": {
   "display_name": "Python 3 (ipykernel)",
   "language": "python",
   "name": "python3"
  },
  "language_info": {
   "codemirror_mode": {
    "name": "ipython",
    "version": 3
   },
   "file_extension": ".py",
   "mimetype": "text/x-python",
   "name": "python",
   "nbconvert_exporter": "python",
   "pygments_lexer": "ipython3",
   "version": "3.12.7"
  }
 },
 "nbformat": 4,
 "nbformat_minor": 5
}
