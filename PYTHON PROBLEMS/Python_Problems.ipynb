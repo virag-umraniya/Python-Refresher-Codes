{
 "cells": [
  {
   "cell_type": "markdown",
   "id": "4ac3b7fb-1c34-405e-9358-591b87857629",
   "metadata": {},
   "source": [
    "## Python Refresher Questions"
   ]
  },
  {
   "cell_type": "markdown",
   "id": "34af8695-9ca1-49e1-9b7e-55a851329843",
   "metadata": {},
   "source": [
    "### 1. Write a Python program to print 'Hello, World!'."
   ]
  },
  {
   "cell_type": "code",
   "execution_count": 2,
   "id": "b4ba9882-29e4-437f-b43f-bd2859bd2424",
   "metadata": {},
   "outputs": [
    {
     "name": "stdout",
     "output_type": "stream",
     "text": [
      "Hello World\n"
     ]
    }
   ],
   "source": [
    "print(\"Hello World\")"
   ]
  },
  {
   "cell_type": "markdown",
   "id": "e88e99b2-5663-4852-9a62-23648cb4ea1a",
   "metadata": {},
   "source": [
    "### 2. Write a Python program to add two numbers. "
   ]
  },
  {
   "cell_type": "code",
   "execution_count": 6,
   "id": "6906e9eb-b8d1-47ea-8f2b-5b24d9c71bd2",
   "metadata": {},
   "outputs": [
    {
     "name": "stdout",
     "output_type": "stream",
     "text": [
      "30\n"
     ]
    }
   ],
   "source": [
    "a = 10\n",
    "b = 20\n",
    "print(a+b)"
   ]
  },
  {
   "cell_type": "markdown",
   "id": "15bf5a19-7ade-4901-b97d-3668997910c2",
   "metadata": {},
   "source": [
    "### 3. Write a Python program to find the square of a number. "
   ]
  },
  {
   "cell_type": "code",
   "execution_count": 7,
   "id": "375e141c-d8c7-471a-8804-b612a3fe3a9c",
   "metadata": {},
   "outputs": [
    {
     "name": "stdin",
     "output_type": "stream",
     "text": [
      "Enter a number:  12\n"
     ]
    },
    {
     "name": "stdout",
     "output_type": "stream",
     "text": [
      "The square is: 144\n"
     ]
    }
   ],
   "source": [
    "a = int(input(\"Enter a number: \"))\n",
    "print(\"The square is:\", a**2)"
   ]
  },
  {
   "cell_type": "markdown",
   "id": "59a4d3b1-7edd-4063-acd4-788a0ffaf551",
   "metadata": {},
   "source": [
    "### 4. Write a Python program to calculate the area of a circle. "
   ]
  },
  {
   "cell_type": "code",
   "execution_count": 9,
   "id": "6d0111a2-2332-4423-8d2f-8043c57f2e94",
   "metadata": {},
   "outputs": [
    {
     "name": "stdin",
     "output_type": "stream",
     "text": [
      "Enter Radius:  12\n"
     ]
    },
    {
     "name": "stdout",
     "output_type": "stream",
     "text": [
      "Area of circle is: 452.16\n"
     ]
    }
   ],
   "source": [
    "radius = int(input(\"Enter Radius: \"))\n",
    "print(\"Area of circle is:\",3.14 * (radius * radius))"
   ]
  },
  {
   "cell_type": "markdown",
   "id": "cb189c21-c172-4078-b389-f91cc0c1512d",
   "metadata": {},
   "source": [
    "### 5. Write a Python program to check if a number is even or odd."
   ]
  },
  {
   "cell_type": "code",
   "execution_count": 10,
   "id": "b42edcc3-4dae-4e5f-9aa3-ad2b72aa108f",
   "metadata": {},
   "outputs": [
    {
     "name": "stdin",
     "output_type": "stream",
     "text": [
      "Enter a number:  12\n",
      "Enter b number:  23\n"
     ]
    },
    {
     "name": "stdout",
     "output_type": "stream",
     "text": [
      "b greater than a\n"
     ]
    }
   ],
   "source": [
    "a = int(input(\"Enter a number: \"))\n",
    "b = int(input(\"Enter b number: \"))\n",
    "if(a>b):\n",
    "    print(\"a greater than b\")\n",
    "else:\n",
    "    print(\"b greater than a\")"
   ]
  },
  {
   "cell_type": "markdown",
   "id": "61d78da8-1363-4910-b401-f5923abd48ec",
   "metadata": {},
   "source": [
    "### 6. Write a Python program to find the largest of three numbers."
   ]
  },
  {
   "cell_type": "code",
   "execution_count": 12,
   "id": "b1b559ca-87fe-4323-b57e-4703834c3773",
   "metadata": {},
   "outputs": [
    {
     "name": "stdout",
     "output_type": "stream",
     "text": [
      "b is greatest\n"
     ]
    }
   ],
   "source": [
    "a = 12\n",
    "b = 34\n",
    "c = 23\n",
    "if(a>b and a>c):\n",
    "    print(\"a is greatest\")\n",
    "elif(b>a and b>c):\n",
    "    print(\"b is greatest\")\n",
    "else:\n",
    "    print(\"c is greatest\")"
   ]
  },
  {
   "cell_type": "markdown",
   "id": "750f64a4-0a43-424f-baa8-222696bc48ff",
   "metadata": {},
   "source": [
    "### 7. Write a Python program to check if a number is prime."
   ]
  },
  {
   "cell_type": "code",
   "execution_count": 13,
   "id": "7f9a6256-709c-41de-a039-42c23fd13f83",
   "metadata": {},
   "outputs": [
    {
     "name": "stdout",
     "output_type": "stream",
     "text": [
      "The number 17 is Prime!\n"
     ]
    }
   ],
   "source": [
    "a = 17\n",
    "is_prime = True\n",
    "if(a<1):\n",
    "    print(f\"The number {a} is not Prime!\")\n",
    "else:\n",
    "    for i in range(2, a):\n",
    "        if(a %i == 0):\n",
    "            is_prime = False\n",
    "            break\n",
    "        \n",
    "    if(is_prime):\n",
    "        print(f\"The number {a} is Prime!\")\n",
    "    else:\n",
    "        print(f\"The number {a} is not Prime!\")"
   ]
  },
  {
   "cell_type": "markdown",
   "id": "b560eb05-1427-4b6e-8b81-6c6135b2a9a9",
   "metadata": {},
   "source": [
    "### 8. Write a Python program to print the multiplication table of a number. "
   ]
  },
  {
   "cell_type": "code",
   "execution_count": 14,
   "id": "7ee95ac3-aaca-4dda-ae81-b1dfab7a6971",
   "metadata": {},
   "outputs": [
    {
     "name": "stdin",
     "output_type": "stream",
     "text": [
      "Enter any number to get its multiplication table:  12\n"
     ]
    },
    {
     "name": "stdout",
     "output_type": "stream",
     "text": [
      "12 x 1 = 12\n",
      "12 x 2 = 24\n",
      "12 x 3 = 36\n",
      "12 x 4 = 48\n",
      "12 x 5 = 60\n",
      "12 x 6 = 72\n",
      "12 x 7 = 84\n",
      "12 x 8 = 96\n",
      "12 x 9 = 108\n",
      "12 x 10 = 120\n"
     ]
    }
   ],
   "source": [
    "a = int(input(\"Enter any number to get its multiplication table: \"))\n",
    "for i in range(1,11):\n",
    "    print(f\"{a} x {i} =\", a * i)"
   ]
  },
  {
   "cell_type": "markdown",
   "id": "59015580-244a-4f58-957e-7c9c31740c85",
   "metadata": {},
   "source": [
    "### 9. Write a Python program to find the factorial of a number."
   ]
  },
  {
   "cell_type": "code",
   "execution_count": 16,
   "id": "0da7bf25-5eb7-49af-b0db-256d63e13052",
   "metadata": {},
   "outputs": [
    {
     "name": "stdout",
     "output_type": "stream",
     "text": [
      "Factorial is: 120\n"
     ]
    }
   ],
   "source": [
    "a = 5\n",
    "factorial = 1\n",
    "if(a<0):\n",
    "    print(\"factorial does not exist for negative numbers!\")\n",
    "elif(a == 0):\n",
    "    print(\"Factorial of 0 is 1\")\n",
    "else:\n",
    "    for i in range(1,a+1):\n",
    "        factorial *= i\n",
    "    print(\"Factorial is:\", factorial)"
   ]
  },
  {
   "cell_type": "markdown",
   "id": "d05af710-3a39-4bfc-9e3b-a109f08f74d0",
   "metadata": {},
   "source": [
    "### 10. Write a Python program to reverse a string. "
   ]
  },
  {
   "cell_type": "code",
   "execution_count": 17,
   "id": "98885d3e-69be-4187-8640-65ecd1412838",
   "metadata": {},
   "outputs": [
    {
     "name": "stdout",
     "output_type": "stream",
     "text": [
      "dlroW olleH\n"
     ]
    }
   ],
   "source": [
    "str = \"Hello World\"\n",
    "print(str[::-1])"
   ]
  },
  {
   "cell_type": "markdown",
   "id": "cedd06cc-e7ea-4d65-843b-0d30d3937715",
   "metadata": {},
   "source": [
    "### 11. Write a Python program to check if a string is a palindrome."
   ]
  },
  {
   "cell_type": "code",
   "execution_count": 18,
   "id": "579fc6dc-1804-403a-a8bb-5c72c98a7a74",
   "metadata": {},
   "outputs": [
    {
     "name": "stdin",
     "output_type": "stream",
     "text": [
      "Enter any number:  121\n"
     ]
    },
    {
     "name": "stdout",
     "output_type": "stream",
     "text": [
      "121 is Palindrome number!\n"
     ]
    }
   ],
   "source": [
    "num = input(\"Enter any number: \")\n",
    "reversed = num[::-1]\n",
    "if(num == reversed):\n",
    "    print(f\"{num} is Palindrome number!\")\n",
    "else:\n",
    "    print(f\"{num} is not Palindrome number!\")"
   ]
  },
  {
   "cell_type": "markdown",
   "id": "11dab8cb-a923-439a-929b-08eb66b4a9db",
   "metadata": {},
   "source": [
    "### 12. Write a Python program to count the number of vowels in a string."
   ]
  },
  {
   "cell_type": "code",
   "execution_count": 3,
   "id": "a13070ef-09ee-4d7a-855d-6c50f2d6b446",
   "metadata": {},
   "outputs": [
    {
     "name": "stdout",
     "output_type": "stream",
     "text": [
      "Number of vowels are: 10\n"
     ]
    }
   ],
   "source": [
    "str = \"Hello, My name is frank Abagnale Jr.\"\n",
    "vowels = 0\n",
    "for i in str:\n",
    "    if i.lower() in 'aeiou':\n",
    "        vowels += 1\n",
    "print(\"Number of vowels are:\",vowels)"
   ]
  },
  {
   "cell_type": "markdown",
   "id": "3db0644f-b014-4a8c-8715-208d98a33a2f",
   "metadata": {},
   "source": [
    "### 13. Write a Python program to find the length of a string. "
   ]
  },
  {
   "cell_type": "code",
   "execution_count": 5,
   "id": "06a08867-a0ce-4dbb-8cc8-f4564e029d81",
   "metadata": {},
   "outputs": [
    {
     "name": "stdout",
     "output_type": "stream",
     "text": [
      "19\n"
     ]
    }
   ],
   "source": [
    "# 13. Write a Python program to find the length of a string.\n",
    "str = \"Catch me if you can\"\n",
    "print(len(str))"
   ]
  },
  {
   "cell_type": "markdown",
   "id": "7dce1a30-016f-4d71-8483-f5f471454d3a",
   "metadata": {},
   "source": [
    "### 14. Write a Python program to find the sum of digits in a number."
   ]
  },
  {
   "cell_type": "code",
   "execution_count": 8,
   "id": "47f7701c-30ba-43df-9638-690cddeb2df3",
   "metadata": {},
   "outputs": [
    {
     "name": "stdout",
     "output_type": "stream",
     "text": [
      "sum of digits in a number is: 10\n"
     ]
    }
   ],
   "source": [
    "a = 1234\n",
    "sum = 0\n",
    "while(a > 0):\n",
    "    digit = a % 10\n",
    "    sum += digit\n",
    "    a = a // 10\n",
    "print(\"sum of digits in a number is:\",sum)"
   ]
  },
  {
   "cell_type": "markdown",
   "id": "44eaacab-8e92-4efd-8f53-3876be791c94",
   "metadata": {},
   "source": [
    "### 15. Write a Python program to find the greatest common divisor (GCD) of two numbers."
   ]
  },
  {
   "cell_type": "code",
   "execution_count": 7,
   "id": "5dce8626-c309-4986-8e0f-a0a7215d785b",
   "metadata": {},
   "outputs": [
    {
     "name": "stdout",
     "output_type": "stream",
     "text": [
      "GCD is: 2\n"
     ]
    }
   ],
   "source": [
    "def find_gcd(a, b):\n",
    "    while b:\n",
    "        a,b = b, a%b # Concept of tuple Unpacking\n",
    "    return a\n",
    "a = 34\n",
    "b = 12\n",
    "\n",
    "print(\"GCD is:\",find_gcd(a,b))"
   ]
  },
  {
   "cell_type": "markdown",
   "id": "588418b3-5462-46fd-851e-a4778ff0ac04",
   "metadata": {},
   "source": [
    "### 16. Write a Python program to find the least common multiple (LCM) of two numbers."
   ]
  },
  {
   "cell_type": "code",
   "execution_count": 8,
   "id": "a0f0f1ae-5abf-4558-8fa7-33986c8b06e0",
   "metadata": {},
   "outputs": [
    {
     "name": "stdout",
     "output_type": "stream",
     "text": [
      "LCM is: 6\n"
     ]
    }
   ],
   "source": [
    "def find_gcd(a, b):\n",
    "    while b:\n",
    "        a,b = b, a%b # Concept of tuple Unpacking\n",
    "    return a\n",
    "\n",
    "def find_lcm(a,b):\n",
    "    gcd = find_gcd(a,b)\n",
    "    lcm = (a * b) // gcd\n",
    "    return lcm\n",
    "a = 2\n",
    "b = 3\n",
    "print(\"LCM is:\",find_lcm(a,b))"
   ]
  },
  {
   "cell_type": "markdown",
   "id": "1f8b80da-daed-48e5-a57f-9ab92b6556f3",
   "metadata": {},
   "source": [
    "### 17. Write a Python program to swap two numbers without using a temporary variable."
   ]
  },
  {
   "cell_type": "code",
   "execution_count": 9,
   "id": "77a8a2d6-2a62-436d-a1eb-4123492705b0",
   "metadata": {},
   "outputs": [
    {
     "name": "stdout",
     "output_type": "stream",
     "text": [
      "Value of a: 2\n",
      "Value of b: 1\n"
     ]
    }
   ],
   "source": [
    "a = 1\n",
    "b = 2\n",
    "a,b = b,a # Concept of tuple unpacking\n",
    "print(\"Value of a:\",a)\n",
    "print(\"Value of b:\",b)"
   ]
  },
  {
   "cell_type": "markdown",
   "id": "0eb1eb56-f901-4eb4-8e33-7226c36e2ed5",
   "metadata": {},
   "source": [
    "### 18. Write a Python program to convert Celsius to Fahrenheit."
   ]
  },
  {
   "cell_type": "code",
   "execution_count": 14,
   "id": "ef24a7b5-41a4-4a6e-89b9-487ae4ac5723",
   "metadata": {},
   "outputs": [
    {
     "name": "stdout",
     "output_type": "stream",
     "text": [
      "25 °C in to Fahrenheit is: 77.0 °F\n"
     ]
    }
   ],
   "source": [
    "celsius = 25\n",
    "fahrenheit = (celsius * 9/5) + 32\n",
    "print(f\"{celsius} °C in to Fahrenheit is: {fahrenheit} °F\")"
   ]
  },
  {
   "cell_type": "markdown",
   "id": "6b808c77-83d1-4f76-b16a-c5ec0637fb1d",
   "metadata": {},
   "source": [
    "### 19. Write a Python program to convert kilometers to miles."
   ]
  },
  {
   "cell_type": "code",
   "execution_count": 15,
   "id": "0bf91836-eab9-4956-98c6-2ab08ee7dafa",
   "metadata": {},
   "outputs": [
    {
     "name": "stdout",
     "output_type": "stream",
     "text": [
      "20 km is equal to 12.42742 miles: 12.42742\n"
     ]
    }
   ],
   "source": [
    "km = 20\n",
    "miles = km * 0.621371\n",
    "print(f\"{km} km is equal to {miles} miles:\",miles)"
   ]
  },
  {
   "cell_type": "markdown",
   "id": "e02be8f6-14a3-4105-b334-b44bbc820fa0",
   "metadata": {},
   "source": [
    "### 20. Write a Python program to find the ASCII value of a character."
   ]
  },
  {
   "cell_type": "code",
   "execution_count": 16,
   "id": "fac103a6-828d-4a16-a3dd-b332db58427c",
   "metadata": {},
   "outputs": [
    {
     "name": "stdout",
     "output_type": "stream",
     "text": [
      "ASCII value of character is: 65\n"
     ]
    }
   ],
   "source": [
    "a = \"A\"\n",
    "print(\"ASCII value of character is:\",ord(a))"
   ]
  },
  {
   "cell_type": "code",
   "execution_count": null,
   "id": "57ed71f7-9a23-4e5a-98d7-13dfae1cef18",
   "metadata": {},
   "outputs": [],
   "source": []
  }
 ],
 "metadata": {
  "kernelspec": {
   "display_name": "Python 3 (ipykernel)",
   "language": "python",
   "name": "python3"
  },
  "language_info": {
   "codemirror_mode": {
    "name": "ipython",
    "version": 3
   },
   "file_extension": ".py",
   "mimetype": "text/x-python",
   "name": "python",
   "nbconvert_exporter": "python",
   "pygments_lexer": "ipython3",
   "version": "3.12.7"
  }
 },
 "nbformat": 4,
 "nbformat_minor": 5
}
