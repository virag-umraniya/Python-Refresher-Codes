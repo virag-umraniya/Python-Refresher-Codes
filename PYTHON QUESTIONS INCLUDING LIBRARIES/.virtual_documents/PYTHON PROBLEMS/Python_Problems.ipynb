





print("Hello World")





a = 10
b = 20
print(a+b)





a = int(input("Enter a number: "))
print("The square is:", a**2)





radius = int(input("Enter Radius: "))
print("Area of circle is:",3.14 * (radius * radius))





a = int(input("Enter a number: "))
b = int(input("Enter b number: "))
if(a>b):
    print("a greater than b")
else:
    print("b greater than a")





a = 12
b = 34
c = 23
if(a>b and a>c):
    print("a is greatest")
elif(b>a and b>c):
    print("b is greatest")
else:
    print("c is greatest")





a = 17
is_prime = True
if(a<1):
    print(f"The number {a} is not Prime!")
else:
    for i in range(2, a):
        if(a %i == 0):
            is_prime = False
            break
        
    if(is_prime):
        print(f"The number {a} is Prime!")
    else:
        print(f"The number {a} is not Prime!")





a = int(input("Enter any number to get its multiplication table: "))
for i in range(1,11):
    print(f"{a} x {i} =", a * i)





a = 5
factorial = 1
if(a<0):
    print("factorial does not exist for negative numbers!")
elif(a == 0):
    print("Factorial of 0 is 1")
else:
    for i in range(1,a+1):
        factorial *= i
    print("Factorial is:", factorial)





str = "Hello World"
print(str[::-1])





num = input("Enter any number: ")
reversed = num[::-1]
if(num == reversed):
    print(f"{num} is Palindrome number!")
else:
    print(f"{num} is not Palindrome number!")





str = "Hello, My name is frank Abagnale Jr."
vowels = 0
for i in str:
    if i.lower() in 'aeiou':
        vowels += 1
print("Number of vowels are:",vowels)





# 13. Write a Python program to find the length of a string.
str = "Catch me if you can"
print(len(str))





a = 1234
sum = 0
while(a > 0):
    digit = a % 10
    sum += digit
    a = a // 10
print("sum of digits in a number is:",sum)





def find_gcd(a, b):
    while b:
        a,b = b, a%b # Concept of tuple Unpacking
    return a
a = 34
b = 12

print("GCD is:",find_gcd(a,b))





def find_gcd(a, b):
    while b:
        a,b = b, a%b # Concept of tuple Unpacking
    return a

def find_lcm(a,b):
    gcd = find_gcd(a,b)
    lcm = (a * b) // gcd
    return lcm
a = 2
b = 3
print("LCM is:",find_lcm(a,b))





a = 1
b = 2
a,b = b,a # Concept of tuple unpacking
print("Value of a:",a)
print("Value of b:",b)





celsius = 25
fahrenheit = (celsius * 9/5) + 32
print(f"{celsius} °C in to Fahrenheit is: {fahrenheit} °F")





km = 20
miles = km * 0.621371
print(f"{km} km is equal to {miles} miles:",miles)





a = "A"
print("ASCII value of character is:",ord(a))





year = 2024
if(year %4 == 0 or year %100 != 0 and year %400 == 0):
    print(f"The {year} year is a leap year: ")
else:
    print(f"The {year} year is not a leap year: ")





lst1 = [10, 9, 12, 2, 1]
print(lst1.sort())



